{
  "nbformat": 4,
  "nbformat_minor": 0,
  "metadata": {
    "colab": {
      "name": "Pandas_Datacamp_exercises.ipynb",
      "provenance": [],
      "include_colab_link": true
    },
    "kernelspec": {
      "name": "python3",
      "display_name": "Python 3"
    }
  },
  "cells": [
    {
      "cell_type": "markdown",
      "metadata": {
        "id": "view-in-github",
        "colab_type": "text"
      },
      "source": [
        "<a href=\"https://colab.research.google.com/github/rrupam/Pandas/blob/master/Pandas_Datacamp_exercises.ipynb\" target=\"_parent\"><img src=\"https://colab.research.google.com/assets/colab-badge.svg\" alt=\"Open In Colab\"/></a>"
      ]
    },
    {
      "cell_type": "markdown",
      "metadata": {
        "id": "0GMmT4WyIvoj",
        "colab_type": "text"
      },
      "source": [
        "# Pandas Revision\n",
        "\n",
        "This notebook contains basic and advanced material concerning dataframe usage in Python. The material is due to the Datacamp course: Manipulating DataFrames with pandas"
      ]
    },
    {
      "cell_type": "code",
      "metadata": {
        "id": "IFO3ptYLvK5f",
        "colab_type": "code",
        "outputId": "d4eac2df-a7eb-461c-d0c9-944c7a335302",
        "colab": {
          "base_uri": "https://localhost:8080/",
          "height": 127
        }
      },
      "source": [
        "#To login to your googledrive account for file management\n",
        "from google.colab import drive\n",
        "drive.mount('/content/drive')"
      ],
      "execution_count": 1,
      "outputs": [
        {
          "output_type": "stream",
          "text": [
            "Go to this URL in a browser: https://accounts.google.com/o/oauth2/auth?client_id=947318989803-6bn6qk8qdgf4n4g3pfee6491hc0brc4i.apps.googleusercontent.com&redirect_uri=urn%3aietf%3awg%3aoauth%3a2.0%3aoob&response_type=code&scope=email%20https%3a%2f%2fwww.googleapis.com%2fauth%2fdocs.test%20https%3a%2f%2fwww.googleapis.com%2fauth%2fdrive%20https%3a%2f%2fwww.googleapis.com%2fauth%2fdrive.photos.readonly%20https%3a%2f%2fwww.googleapis.com%2fauth%2fpeopleapi.readonly\n",
            "\n",
            "Enter your authorization code:\n",
            "··········\n",
            "Mounted at /content/drive\n"
          ],
          "name": "stdout"
        }
      ]
    },
    {
      "cell_type": "code",
      "metadata": {
        "id": "2uXFyhmMvyf5",
        "colab_type": "code",
        "outputId": "bc51810b-a520-4a3b-bee3-a54b78404e94",
        "colab": {
          "base_uri": "https://localhost:8080/",
          "height": 35
        }
      },
      "source": [
        "! ls"
      ],
      "execution_count": 0,
      "outputs": [
        {
          "output_type": "stream",
          "text": [
            "drive  sample_data\n"
          ],
          "name": "stdout"
        }
      ]
    },
    {
      "cell_type": "code",
      "metadata": {
        "id": "P8k0sxR-vaFe",
        "colab_type": "code",
        "outputId": "451ce492-c5e1-461c-ed4a-6e055c9466bf",
        "colab": {
          "base_uri": "https://localhost:8080/",
          "height": 35
        }
      },
      "source": [
        "#CD into the directory you want to be in \n",
        "% cd drive/My Drive/Colab Notebooks/Pandas"
      ],
      "execution_count": 2,
      "outputs": [
        {
          "output_type": "stream",
          "text": [
            "/content/drive/My Drive/Colab Notebooks/Pandas\n"
          ],
          "name": "stdout"
        }
      ]
    },
    {
      "cell_type": "code",
      "metadata": {
        "id": "acEs5G63wfK0",
        "colab_type": "code",
        "outputId": "b74f7227-237c-4eb8-d035-4d54bced8dec",
        "colab": {
          "base_uri": "https://localhost:8080/",
          "height": 224
        }
      },
      "source": [
        "import pandas as pd\n",
        "df = pd.read_excel('Dump_Sensor_Rishika_Dump.xlsx')\n",
        "df.head()"
      ],
      "execution_count": 3,
      "outputs": [
        {
          "output_type": "execute_result",
          "data": {
            "text/html": [
              "<div>\n",
              "<style scoped>\n",
              "    .dataframe tbody tr th:only-of-type {\n",
              "        vertical-align: middle;\n",
              "    }\n",
              "\n",
              "    .dataframe tbody tr th {\n",
              "        vertical-align: top;\n",
              "    }\n",
              "\n",
              "    .dataframe thead th {\n",
              "        text-align: right;\n",
              "    }\n",
              "</style>\n",
              "<table border=\"1\" class=\"dataframe\">\n",
              "  <thead>\n",
              "    <tr style=\"text-align: right;\">\n",
              "      <th></th>\n",
              "      <th>_source/recordId</th>\n",
              "      <th>_source/date</th>\n",
              "      <th>_source/assetId</th>\n",
              "      <th>_source/data/eventType</th>\n",
              "      <th>_source/data/eventTime</th>\n",
              "      <th>_source/data/eventTimeZoneOffset</th>\n",
              "      <th>_source/data/action</th>\n",
              "      <th>_source/data/readPoint</th>\n",
              "      <th>_source/data/bizTransactionList/0/bizTransaction</th>\n",
              "      <th>_source/data/eventID</th>\n",
              "      <th>_source/data/recordTime</th>\n",
              "      <th>_source/extensions/eventTime</th>\n",
              "      <th>_source/extensions/readPoint</th>\n",
              "      <th>_source/extensions/height</th>\n",
              "      <th>_source/data/extensions/temperature/measurement</th>\n",
              "      <th>_source/data/extensions/temperature/measurementUnitCode</th>\n",
              "      <th>_source/data/extensions/light/measurement</th>\n",
              "      <th>_source/data/extensions/light/measurementUnitCode</th>\n",
              "      <th>_source/data/extensions/speed/measurement</th>\n",
              "      <th>_source/data/extensions/speed/measurementUnitCode</th>\n",
              "    </tr>\n",
              "  </thead>\n",
              "  <tbody>\n",
              "    <tr>\n",
              "      <th>0</th>\n",
              "      <td>hK0ifOPpo_9nrT8Y289DQ</td>\n",
              "      <td>1569276027911</td>\n",
              "      <td>urn:tilkal:platform:id:giai:tilliance.SSR00001</td>\n",
              "      <td>ObjectEvent</td>\n",
              "      <td>2019-09-23T13:51:00Z</td>\n",
              "      <td>+00:00</td>\n",
              "      <td>OBSERVE</td>\n",
              "      <td>geo:53.67251,-2.62616</td>\n",
              "      <td>urn:tilkal:platform:id:bt:R00001.18161</td>\n",
              "      <td>c278f581cc2664c0bc07fff486edda260e790ba1900ba9...</td>\n",
              "      <td>2019-09-23T22:00:42Z</td>\n",
              "      <td>1569246660000</td>\n",
              "      <td>53.67251,-2.62616</td>\n",
              "      <td>0</td>\n",
              "      <td>NaN</td>\n",
              "      <td>NaN</td>\n",
              "      <td>NaN</td>\n",
              "      <td>NaN</td>\n",
              "      <td>NaN</td>\n",
              "      <td>NaN</td>\n",
              "    </tr>\n",
              "    <tr>\n",
              "      <th>1</th>\n",
              "      <td>Z1nJpvWNpa36hFl7fnQC1</td>\n",
              "      <td>1569276027912</td>\n",
              "      <td>urn:tilkal:platform:id:giai:tilliance.SSR00002</td>\n",
              "      <td>ObjectEvent</td>\n",
              "      <td>2019-09-23T10:25:00Z</td>\n",
              "      <td>+00:00</td>\n",
              "      <td>OBSERVE</td>\n",
              "      <td>NaN</td>\n",
              "      <td>urn:tilkal:platform:id:bt:R00001.18161</td>\n",
              "      <td>1668121f1a312e32c27b4f0adc1447e45ccd8b64013ec9...</td>\n",
              "      <td>2019-09-23T22:00:42Z</td>\n",
              "      <td>1569234300000</td>\n",
              "      <td>NaN</td>\n",
              "      <td>0</td>\n",
              "      <td>4.2</td>\n",
              "      <td>CEL</td>\n",
              "      <td>NaN</td>\n",
              "      <td>NaN</td>\n",
              "      <td>NaN</td>\n",
              "      <td>NaN</td>\n",
              "    </tr>\n",
              "    <tr>\n",
              "      <th>2</th>\n",
              "      <td>D_tV7pr0LT2NdG_4-iy3H</td>\n",
              "      <td>1569276027914</td>\n",
              "      <td>urn:tilkal:platform:id:giai:tilliance.SSR00002</td>\n",
              "      <td>ObjectEvent</td>\n",
              "      <td>2019-09-23T15:28:00Z</td>\n",
              "      <td>+00:00</td>\n",
              "      <td>OBSERVE</td>\n",
              "      <td>NaN</td>\n",
              "      <td>urn:tilkal:platform:id:bt:R00001.18161</td>\n",
              "      <td>cb3cab44824b3dc20594b28eadeb10d580cefd0b73c59c...</td>\n",
              "      <td>2019-09-23T22:00:42Z</td>\n",
              "      <td>1569252480000</td>\n",
              "      <td>NaN</td>\n",
              "      <td>0</td>\n",
              "      <td>5.9</td>\n",
              "      <td>CEL</td>\n",
              "      <td>NaN</td>\n",
              "      <td>NaN</td>\n",
              "      <td>NaN</td>\n",
              "      <td>NaN</td>\n",
              "    </tr>\n",
              "    <tr>\n",
              "      <th>3</th>\n",
              "      <td>oL-fkjD3jGqp0Q5xOV-Pe</td>\n",
              "      <td>1569276027916</td>\n",
              "      <td>urn:tilkal:platform:id:giai:tilliance.SSR00003</td>\n",
              "      <td>ObjectEvent</td>\n",
              "      <td>2019-09-23T15:36:00Z</td>\n",
              "      <td>+00:00</td>\n",
              "      <td>OBSERVE</td>\n",
              "      <td>NaN</td>\n",
              "      <td>urn:tilkal:platform:id:bt:R00001.18161</td>\n",
              "      <td>a3d51034a36c2a459898cf3dca489836184c355e457302...</td>\n",
              "      <td>2019-09-23T22:00:42Z</td>\n",
              "      <td>1569252960000</td>\n",
              "      <td>NaN</td>\n",
              "      <td>0</td>\n",
              "      <td>NaN</td>\n",
              "      <td>NaN</td>\n",
              "      <td>0.0</td>\n",
              "      <td>LUX</td>\n",
              "      <td>NaN</td>\n",
              "      <td>NaN</td>\n",
              "    </tr>\n",
              "    <tr>\n",
              "      <th>4</th>\n",
              "      <td>tXwFBks3BdaJS0bvBUqL4</td>\n",
              "      <td>1569276027918</td>\n",
              "      <td>urn:tilkal:platform:id:giai:tilliance.SSR00004</td>\n",
              "      <td>ObjectEvent</td>\n",
              "      <td>2019-09-23T12:39:00Z</td>\n",
              "      <td>+00:00</td>\n",
              "      <td>OBSERVE</td>\n",
              "      <td>NaN</td>\n",
              "      <td>urn:tilkal:platform:id:bt:R00001.18161</td>\n",
              "      <td>25d76610b09a3d0e804502cdc24840232f7efa98613ec3...</td>\n",
              "      <td>2019-09-23T22:00:42Z</td>\n",
              "      <td>1569242340000</td>\n",
              "      <td>NaN</td>\n",
              "      <td>0</td>\n",
              "      <td>NaN</td>\n",
              "      <td>NaN</td>\n",
              "      <td>NaN</td>\n",
              "      <td>NaN</td>\n",
              "      <td>58.8</td>\n",
              "      <td>KMH</td>\n",
              "    </tr>\n",
              "  </tbody>\n",
              "</table>\n",
              "</div>"
            ],
            "text/plain": [
              "        _source/recordId  ...  _source/data/extensions/speed/measurementUnitCode\n",
              "0  hK0ifOPpo_9nrT8Y289DQ  ...                                                NaN\n",
              "1  Z1nJpvWNpa36hFl7fnQC1  ...                                                NaN\n",
              "2  D_tV7pr0LT2NdG_4-iy3H  ...                                                NaN\n",
              "3  oL-fkjD3jGqp0Q5xOV-Pe  ...                                                NaN\n",
              "4  tXwFBks3BdaJS0bvBUqL4  ...                                                KMH\n",
              "\n",
              "[5 rows x 20 columns]"
            ]
          },
          "metadata": {
            "tags": []
          },
          "execution_count": 3
        }
      ]
    },
    {
      "cell_type": "markdown",
      "metadata": {
        "id": "7Ga3UiLswNjQ",
        "colab_type": "text"
      },
      "source": [
        "# Extracting and Transforming Data"
      ]
    },
    {
      "cell_type": "markdown",
      "metadata": {
        "id": "Zjq1-GLswTEo",
        "colab_type": "text"
      },
      "source": [
        "**Indexing, Slicing**"
      ]
    },
    {
      "cell_type": "code",
      "metadata": {
        "id": "nzIiwIvvv2wq",
        "colab_type": "code",
        "outputId": "bce79cd2-601a-43b3-c3a2-6e6a291c58a5",
        "colab": {
          "base_uri": "https://localhost:8080/",
          "height": 359
        }
      },
      "source": [
        "df_new = df.loc[1:10,'_source/date':'_source/data/eventTime']\n",
        "df_new"
      ],
      "execution_count": 4,
      "outputs": [
        {
          "output_type": "execute_result",
          "data": {
            "text/html": [
              "<div>\n",
              "<style scoped>\n",
              "    .dataframe tbody tr th:only-of-type {\n",
              "        vertical-align: middle;\n",
              "    }\n",
              "\n",
              "    .dataframe tbody tr th {\n",
              "        vertical-align: top;\n",
              "    }\n",
              "\n",
              "    .dataframe thead th {\n",
              "        text-align: right;\n",
              "    }\n",
              "</style>\n",
              "<table border=\"1\" class=\"dataframe\">\n",
              "  <thead>\n",
              "    <tr style=\"text-align: right;\">\n",
              "      <th></th>\n",
              "      <th>_source/date</th>\n",
              "      <th>_source/assetId</th>\n",
              "      <th>_source/data/eventType</th>\n",
              "      <th>_source/data/eventTime</th>\n",
              "    </tr>\n",
              "  </thead>\n",
              "  <tbody>\n",
              "    <tr>\n",
              "      <th>1</th>\n",
              "      <td>1569276027912</td>\n",
              "      <td>urn:tilkal:platform:id:giai:tilliance.SSR00002</td>\n",
              "      <td>ObjectEvent</td>\n",
              "      <td>2019-09-23T10:25:00Z</td>\n",
              "    </tr>\n",
              "    <tr>\n",
              "      <th>2</th>\n",
              "      <td>1569276027914</td>\n",
              "      <td>urn:tilkal:platform:id:giai:tilliance.SSR00002</td>\n",
              "      <td>ObjectEvent</td>\n",
              "      <td>2019-09-23T15:28:00Z</td>\n",
              "    </tr>\n",
              "    <tr>\n",
              "      <th>3</th>\n",
              "      <td>1569276027916</td>\n",
              "      <td>urn:tilkal:platform:id:giai:tilliance.SSR00003</td>\n",
              "      <td>ObjectEvent</td>\n",
              "      <td>2019-09-23T15:36:00Z</td>\n",
              "    </tr>\n",
              "    <tr>\n",
              "      <th>4</th>\n",
              "      <td>1569276027918</td>\n",
              "      <td>urn:tilkal:platform:id:giai:tilliance.SSR00004</td>\n",
              "      <td>ObjectEvent</td>\n",
              "      <td>2019-09-23T12:39:00Z</td>\n",
              "    </tr>\n",
              "    <tr>\n",
              "      <th>5</th>\n",
              "      <td>1569276027911</td>\n",
              "      <td>urn:tilkal:platform:id:giai:tilliance.SSR00001</td>\n",
              "      <td>ObjectEvent</td>\n",
              "      <td>2019-09-23T11:44:00Z</td>\n",
              "    </tr>\n",
              "    <tr>\n",
              "      <th>6</th>\n",
              "      <td>1569276027911</td>\n",
              "      <td>urn:tilkal:platform:id:giai:tilliance.SSR00001</td>\n",
              "      <td>ObjectEvent</td>\n",
              "      <td>2019-09-23T12:36:00Z</td>\n",
              "    </tr>\n",
              "    <tr>\n",
              "      <th>7</th>\n",
              "      <td>1569276027913</td>\n",
              "      <td>urn:tilkal:platform:id:giai:tilliance.SSR00002</td>\n",
              "      <td>ObjectEvent</td>\n",
              "      <td>2019-09-23T11:27:00Z</td>\n",
              "    </tr>\n",
              "    <tr>\n",
              "      <th>8</th>\n",
              "      <td>1569276027914</td>\n",
              "      <td>urn:tilkal:platform:id:giai:tilliance.SSR00003</td>\n",
              "      <td>ObjectEvent</td>\n",
              "      <td>2019-09-23T10:38:00Z</td>\n",
              "    </tr>\n",
              "    <tr>\n",
              "      <th>9</th>\n",
              "      <td>1569276027916</td>\n",
              "      <td>urn:tilkal:platform:id:giai:tilliance.SSR00003</td>\n",
              "      <td>ObjectEvent</td>\n",
              "      <td>2019-09-23T16:34:00Z</td>\n",
              "    </tr>\n",
              "    <tr>\n",
              "      <th>10</th>\n",
              "      <td>1569276027917</td>\n",
              "      <td>urn:tilkal:platform:id:giai:tilliance.SSR00004</td>\n",
              "      <td>ObjectEvent</td>\n",
              "      <td>2019-09-23T12:15:00Z</td>\n",
              "    </tr>\n",
              "  </tbody>\n",
              "</table>\n",
              "</div>"
            ],
            "text/plain": [
              "     _source/date  ... _source/data/eventTime\n",
              "1   1569276027912  ...   2019-09-23T10:25:00Z\n",
              "2   1569276027914  ...   2019-09-23T15:28:00Z\n",
              "3   1569276027916  ...   2019-09-23T15:36:00Z\n",
              "4   1569276027918  ...   2019-09-23T12:39:00Z\n",
              "5   1569276027911  ...   2019-09-23T11:44:00Z\n",
              "6   1569276027911  ...   2019-09-23T12:36:00Z\n",
              "7   1569276027913  ...   2019-09-23T11:27:00Z\n",
              "8   1569276027914  ...   2019-09-23T10:38:00Z\n",
              "9   1569276027916  ...   2019-09-23T16:34:00Z\n",
              "10  1569276027917  ...   2019-09-23T12:15:00Z\n",
              "\n",
              "[10 rows x 4 columns]"
            ]
          },
          "metadata": {
            "tags": []
          },
          "execution_count": 4
        }
      ]
    },
    {
      "cell_type": "code",
      "metadata": {
        "id": "8imdLQ7gwoJ3",
        "colab_type": "code",
        "outputId": "21edb0a9-7577-4710-cbf4-07923ee08fb5",
        "colab": {
          "base_uri": "https://localhost:8080/",
          "height": 80
        }
      },
      "source": [
        "df.iloc[1:2,1:4]"
      ],
      "execution_count": 5,
      "outputs": [
        {
          "output_type": "execute_result",
          "data": {
            "text/html": [
              "<div>\n",
              "<style scoped>\n",
              "    .dataframe tbody tr th:only-of-type {\n",
              "        vertical-align: middle;\n",
              "    }\n",
              "\n",
              "    .dataframe tbody tr th {\n",
              "        vertical-align: top;\n",
              "    }\n",
              "\n",
              "    .dataframe thead th {\n",
              "        text-align: right;\n",
              "    }\n",
              "</style>\n",
              "<table border=\"1\" class=\"dataframe\">\n",
              "  <thead>\n",
              "    <tr style=\"text-align: right;\">\n",
              "      <th></th>\n",
              "      <th>_source/date</th>\n",
              "      <th>_source/assetId</th>\n",
              "      <th>_source/data/eventType</th>\n",
              "    </tr>\n",
              "  </thead>\n",
              "  <tbody>\n",
              "    <tr>\n",
              "      <th>1</th>\n",
              "      <td>1569276027912</td>\n",
              "      <td>urn:tilkal:platform:id:giai:tilliance.SSR00002</td>\n",
              "      <td>ObjectEvent</td>\n",
              "    </tr>\n",
              "  </tbody>\n",
              "</table>\n",
              "</div>"
            ],
            "text/plain": [
              "    _source/date  ... _source/data/eventType\n",
              "1  1569276027912  ...            ObjectEvent\n",
              "\n",
              "[1 rows x 3 columns]"
            ]
          },
          "metadata": {
            "tags": []
          },
          "execution_count": 5
        }
      ]
    },
    {
      "cell_type": "code",
      "metadata": {
        "id": "GYMYtDt1xNgU",
        "colab_type": "code",
        "outputId": "5d01e5e2-9e3c-419e-af58-74c28953a1cf",
        "colab": {
          "base_uri": "https://localhost:8080/",
          "height": 125
        }
      },
      "source": [
        "df_new = df['_source/date']  #creates a series\n",
        "df_new.head() "
      ],
      "execution_count": 6,
      "outputs": [
        {
          "output_type": "execute_result",
          "data": {
            "text/plain": [
              "0    1569276027911\n",
              "1    1569276027912\n",
              "2    1569276027914\n",
              "3    1569276027916\n",
              "4    1569276027918\n",
              "Name: _source/date, dtype: int64"
            ]
          },
          "metadata": {
            "tags": []
          },
          "execution_count": 6
        }
      ]
    },
    {
      "cell_type": "code",
      "metadata": {
        "id": "WKaqsUEdxcLa",
        "colab_type": "code",
        "outputId": "b161ea2f-b007-4f6d-92f5-76817c76eedf",
        "colab": {
          "base_uri": "https://localhost:8080/",
          "height": 204
        }
      },
      "source": [
        "df_new = df[['_source/date']]   #creates a dataframe\n",
        "df_new.head()"
      ],
      "execution_count": 7,
      "outputs": [
        {
          "output_type": "execute_result",
          "data": {
            "text/html": [
              "<div>\n",
              "<style scoped>\n",
              "    .dataframe tbody tr th:only-of-type {\n",
              "        vertical-align: middle;\n",
              "    }\n",
              "\n",
              "    .dataframe tbody tr th {\n",
              "        vertical-align: top;\n",
              "    }\n",
              "\n",
              "    .dataframe thead th {\n",
              "        text-align: right;\n",
              "    }\n",
              "</style>\n",
              "<table border=\"1\" class=\"dataframe\">\n",
              "  <thead>\n",
              "    <tr style=\"text-align: right;\">\n",
              "      <th></th>\n",
              "      <th>_source/date</th>\n",
              "    </tr>\n",
              "  </thead>\n",
              "  <tbody>\n",
              "    <tr>\n",
              "      <th>0</th>\n",
              "      <td>1569276027911</td>\n",
              "    </tr>\n",
              "    <tr>\n",
              "      <th>1</th>\n",
              "      <td>1569276027912</td>\n",
              "    </tr>\n",
              "    <tr>\n",
              "      <th>2</th>\n",
              "      <td>1569276027914</td>\n",
              "    </tr>\n",
              "    <tr>\n",
              "      <th>3</th>\n",
              "      <td>1569276027916</td>\n",
              "    </tr>\n",
              "    <tr>\n",
              "      <th>4</th>\n",
              "      <td>1569276027918</td>\n",
              "    </tr>\n",
              "  </tbody>\n",
              "</table>\n",
              "</div>"
            ],
            "text/plain": [
              "    _source/date\n",
              "0  1569276027911\n",
              "1  1569276027912\n",
              "2  1569276027914\n",
              "3  1569276027916\n",
              "4  1569276027918"
            ]
          },
          "metadata": {
            "tags": []
          },
          "execution_count": 7
        }
      ]
    },
    {
      "cell_type": "markdown",
      "metadata": {
        "id": "bLWR9DPdxyCJ",
        "colab_type": "text"
      },
      "source": [
        "**Filtering with a Boolean Series**"
      ]
    },
    {
      "cell_type": "code",
      "metadata": {
        "id": "x3BsklTixjTr",
        "colab_type": "code",
        "outputId": "32e3c78f-1d3b-4250-ccf7-694f3eb749b4",
        "colab": {
          "base_uri": "https://localhost:8080/",
          "height": 224
        }
      },
      "source": [
        "condition = df['_source/date']>1569276027918\n",
        "df_new = df[condition]\n",
        "df_new.head()"
      ],
      "execution_count": 8,
      "outputs": [
        {
          "output_type": "execute_result",
          "data": {
            "text/html": [
              "<div>\n",
              "<style scoped>\n",
              "    .dataframe tbody tr th:only-of-type {\n",
              "        vertical-align: middle;\n",
              "    }\n",
              "\n",
              "    .dataframe tbody tr th {\n",
              "        vertical-align: top;\n",
              "    }\n",
              "\n",
              "    .dataframe thead th {\n",
              "        text-align: right;\n",
              "    }\n",
              "</style>\n",
              "<table border=\"1\" class=\"dataframe\">\n",
              "  <thead>\n",
              "    <tr style=\"text-align: right;\">\n",
              "      <th></th>\n",
              "      <th>_source/recordId</th>\n",
              "      <th>_source/date</th>\n",
              "      <th>_source/assetId</th>\n",
              "      <th>_source/data/eventType</th>\n",
              "      <th>_source/data/eventTime</th>\n",
              "      <th>_source/data/eventTimeZoneOffset</th>\n",
              "      <th>_source/data/action</th>\n",
              "      <th>_source/data/readPoint</th>\n",
              "      <th>_source/data/bizTransactionList/0/bizTransaction</th>\n",
              "      <th>_source/data/eventID</th>\n",
              "      <th>_source/data/recordTime</th>\n",
              "      <th>_source/extensions/eventTime</th>\n",
              "      <th>_source/extensions/readPoint</th>\n",
              "      <th>_source/extensions/height</th>\n",
              "      <th>_source/data/extensions/temperature/measurement</th>\n",
              "      <th>_source/data/extensions/temperature/measurementUnitCode</th>\n",
              "      <th>_source/data/extensions/light/measurement</th>\n",
              "      <th>_source/data/extensions/light/measurementUnitCode</th>\n",
              "      <th>_source/data/extensions/speed/measurement</th>\n",
              "      <th>_source/data/extensions/speed/measurementUnitCode</th>\n",
              "    </tr>\n",
              "  </thead>\n",
              "  <tbody>\n",
              "    <tr>\n",
              "      <th>13</th>\n",
              "      <td>RFalb9YncmipPCzBvcdCN</td>\n",
              "      <td>1569276027919</td>\n",
              "      <td>urn:tilkal:platform:id:giai:tilliance.SSR00004</td>\n",
              "      <td>ObjectEvent</td>\n",
              "      <td>2019-09-23T16:54:00Z</td>\n",
              "      <td>+00:00</td>\n",
              "      <td>OBSERVE</td>\n",
              "      <td>NaN</td>\n",
              "      <td>urn:tilkal:platform:id:bt:R00001.18161</td>\n",
              "      <td>133638b7fbe1c50b0d8318d1ed799dafb54c3d335e53a6...</td>\n",
              "      <td>2019-09-23T22:00:42Z</td>\n",
              "      <td>1569257640000</td>\n",
              "      <td>NaN</td>\n",
              "      <td>0</td>\n",
              "      <td>NaN</td>\n",
              "      <td>NaN</td>\n",
              "      <td>NaN</td>\n",
              "      <td>NaN</td>\n",
              "      <td>57.9</td>\n",
              "      <td>KMH</td>\n",
              "    </tr>\n",
              "    <tr>\n",
              "      <th>982</th>\n",
              "      <td>s3Bq4rIBjyMSowjQo-foa</td>\n",
              "      <td>1569621621899</td>\n",
              "      <td>urn:tilkal:platform:id:giai:tilliance.SSR00001</td>\n",
              "      <td>ObjectEvent</td>\n",
              "      <td>2019-09-27T15:57:00Z</td>\n",
              "      <td>+00:00</td>\n",
              "      <td>OBSERVE</td>\n",
              "      <td>geo:52.4097,-1.25631</td>\n",
              "      <td>urn:tilkal:platform:id:bt:R00001.18165</td>\n",
              "      <td>6e1e352febbe97ba5e15a9d57c1513f9ba449e057b343b...</td>\n",
              "      <td>2019-09-27T22:00:38Z</td>\n",
              "      <td>1569599820000</td>\n",
              "      <td>52.4097,-1.25631</td>\n",
              "      <td>0</td>\n",
              "      <td>NaN</td>\n",
              "      <td>NaN</td>\n",
              "      <td>NaN</td>\n",
              "      <td>NaN</td>\n",
              "      <td>NaN</td>\n",
              "      <td>NaN</td>\n",
              "    </tr>\n",
              "    <tr>\n",
              "      <th>983</th>\n",
              "      <td>wfu2rBrzA0zcMaZl8UCvE</td>\n",
              "      <td>1569621621904</td>\n",
              "      <td>urn:tilkal:platform:id:giai:tilliance.SSR00003</td>\n",
              "      <td>ObjectEvent</td>\n",
              "      <td>2019-09-27T13:36:00Z</td>\n",
              "      <td>+00:00</td>\n",
              "      <td>OBSERVE</td>\n",
              "      <td>NaN</td>\n",
              "      <td>urn:tilkal:platform:id:bt:R00001.18165</td>\n",
              "      <td>bfae77dcd55781fcd329ccd71ca4a11326850636890f25...</td>\n",
              "      <td>2019-09-27T22:00:38Z</td>\n",
              "      <td>1569591360000</td>\n",
              "      <td>NaN</td>\n",
              "      <td>0</td>\n",
              "      <td>NaN</td>\n",
              "      <td>NaN</td>\n",
              "      <td>0.0</td>\n",
              "      <td>LUX</td>\n",
              "      <td>NaN</td>\n",
              "      <td>NaN</td>\n",
              "    </tr>\n",
              "    <tr>\n",
              "      <th>984</th>\n",
              "      <td>3qscf5aiE5prZqQWKoyy3</td>\n",
              "      <td>1569621621904</td>\n",
              "      <td>urn:tilkal:platform:id:giai:tilliance.SSR00003</td>\n",
              "      <td>ObjectEvent</td>\n",
              "      <td>2019-09-27T16:29:00Z</td>\n",
              "      <td>+00:00</td>\n",
              "      <td>OBSERVE</td>\n",
              "      <td>NaN</td>\n",
              "      <td>urn:tilkal:platform:id:bt:R00001.18165</td>\n",
              "      <td>7e44ba24bf1b94bedd3f083bc13b8dd92285ba4daaabf0...</td>\n",
              "      <td>2019-09-27T22:00:38Z</td>\n",
              "      <td>1569601740000</td>\n",
              "      <td>NaN</td>\n",
              "      <td>0</td>\n",
              "      <td>NaN</td>\n",
              "      <td>NaN</td>\n",
              "      <td>0.0</td>\n",
              "      <td>LUX</td>\n",
              "      <td>NaN</td>\n",
              "      <td>NaN</td>\n",
              "    </tr>\n",
              "    <tr>\n",
              "      <th>985</th>\n",
              "      <td>o9VP5kt87rfs-jY-uTGt2</td>\n",
              "      <td>1569621621901</td>\n",
              "      <td>urn:tilkal:platform:id:giai:tilliance.SSR00002</td>\n",
              "      <td>ObjectEvent</td>\n",
              "      <td>2019-09-27T14:31:00Z</td>\n",
              "      <td>+00:00</td>\n",
              "      <td>OBSERVE</td>\n",
              "      <td>NaN</td>\n",
              "      <td>urn:tilkal:platform:id:bt:R00001.18165</td>\n",
              "      <td>5b336e744e8b71df7543416a83c3bc7dd4469e10b227a1...</td>\n",
              "      <td>2019-09-27T22:00:38Z</td>\n",
              "      <td>1569594660000</td>\n",
              "      <td>NaN</td>\n",
              "      <td>0</td>\n",
              "      <td>2.7</td>\n",
              "      <td>CEL</td>\n",
              "      <td>NaN</td>\n",
              "      <td>NaN</td>\n",
              "      <td>NaN</td>\n",
              "      <td>NaN</td>\n",
              "    </tr>\n",
              "  </tbody>\n",
              "</table>\n",
              "</div>"
            ],
            "text/plain": [
              "          _source/recordId  ...  _source/data/extensions/speed/measurementUnitCode\n",
              "13   RFalb9YncmipPCzBvcdCN  ...                                                KMH\n",
              "982  s3Bq4rIBjyMSowjQo-foa  ...                                                NaN\n",
              "983  wfu2rBrzA0zcMaZl8UCvE  ...                                                NaN\n",
              "984  3qscf5aiE5prZqQWKoyy3  ...                                                NaN\n",
              "985  o9VP5kt87rfs-jY-uTGt2  ...                                                NaN\n",
              "\n",
              "[5 rows x 20 columns]"
            ]
          },
          "metadata": {
            "tags": []
          },
          "execution_count": 8
        }
      ]
    },
    {
      "cell_type": "code",
      "metadata": {
        "id": "NT1hb2MJykZx",
        "colab_type": "code",
        "colab": {
          "base_uri": "https://localhost:8080/",
          "height": 224
        },
        "outputId": "8cfb3ce3-d770-4a99-9a90-5f3936777035"
      },
      "source": [
        "#Filtering on a certain condition and altering a certain column based on the filter\n",
        "import numpy as np\n",
        "condition = df['_source/date']<1569276027918\n",
        "df.loc[condition,'_source/data/eventType'] = np.nan  #Convert eventTYpe from 'ObjectEvent' to 'Nan' for those rows which are 'True' under condition\n",
        "df.head()"
      ],
      "execution_count": 12,
      "outputs": [
        {
          "output_type": "execute_result",
          "data": {
            "text/html": [
              "<div>\n",
              "<style scoped>\n",
              "    .dataframe tbody tr th:only-of-type {\n",
              "        vertical-align: middle;\n",
              "    }\n",
              "\n",
              "    .dataframe tbody tr th {\n",
              "        vertical-align: top;\n",
              "    }\n",
              "\n",
              "    .dataframe thead th {\n",
              "        text-align: right;\n",
              "    }\n",
              "</style>\n",
              "<table border=\"1\" class=\"dataframe\">\n",
              "  <thead>\n",
              "    <tr style=\"text-align: right;\">\n",
              "      <th></th>\n",
              "      <th>_source/recordId</th>\n",
              "      <th>_source/date</th>\n",
              "      <th>_source/assetId</th>\n",
              "      <th>_source/data/eventType</th>\n",
              "      <th>_source/data/eventTime</th>\n",
              "      <th>_source/data/eventTimeZoneOffset</th>\n",
              "      <th>_source/data/action</th>\n",
              "      <th>_source/data/readPoint</th>\n",
              "      <th>_source/data/bizTransactionList/0/bizTransaction</th>\n",
              "      <th>_source/data/eventID</th>\n",
              "      <th>_source/data/recordTime</th>\n",
              "      <th>_source/extensions/eventTime</th>\n",
              "      <th>_source/extensions/readPoint</th>\n",
              "      <th>_source/extensions/height</th>\n",
              "      <th>_source/data/extensions/temperature/measurement</th>\n",
              "      <th>_source/data/extensions/temperature/measurementUnitCode</th>\n",
              "      <th>_source/data/extensions/light/measurement</th>\n",
              "      <th>_source/data/extensions/light/measurementUnitCode</th>\n",
              "      <th>_source/data/extensions/speed/measurement</th>\n",
              "      <th>_source/data/extensions/speed/measurementUnitCode</th>\n",
              "    </tr>\n",
              "  </thead>\n",
              "  <tbody>\n",
              "    <tr>\n",
              "      <th>0</th>\n",
              "      <td>hK0ifOPpo_9nrT8Y289DQ</td>\n",
              "      <td>1569276027911</td>\n",
              "      <td>urn:tilkal:platform:id:giai:tilliance.SSR00001</td>\n",
              "      <td>NaN</td>\n",
              "      <td>2019-09-23T13:51:00Z</td>\n",
              "      <td>+00:00</td>\n",
              "      <td>OBSERVE</td>\n",
              "      <td>geo:53.67251,-2.62616</td>\n",
              "      <td>urn:tilkal:platform:id:bt:R00001.18161</td>\n",
              "      <td>c278f581cc2664c0bc07fff486edda260e790ba1900ba9...</td>\n",
              "      <td>2019-09-23T22:00:42Z</td>\n",
              "      <td>1569246660000</td>\n",
              "      <td>53.67251,-2.62616</td>\n",
              "      <td>0</td>\n",
              "      <td>NaN</td>\n",
              "      <td>NaN</td>\n",
              "      <td>NaN</td>\n",
              "      <td>NaN</td>\n",
              "      <td>NaN</td>\n",
              "      <td>NaN</td>\n",
              "    </tr>\n",
              "    <tr>\n",
              "      <th>1</th>\n",
              "      <td>Z1nJpvWNpa36hFl7fnQC1</td>\n",
              "      <td>1569276027912</td>\n",
              "      <td>urn:tilkal:platform:id:giai:tilliance.SSR00002</td>\n",
              "      <td>NaN</td>\n",
              "      <td>2019-09-23T10:25:00Z</td>\n",
              "      <td>+00:00</td>\n",
              "      <td>OBSERVE</td>\n",
              "      <td>NaN</td>\n",
              "      <td>urn:tilkal:platform:id:bt:R00001.18161</td>\n",
              "      <td>1668121f1a312e32c27b4f0adc1447e45ccd8b64013ec9...</td>\n",
              "      <td>2019-09-23T22:00:42Z</td>\n",
              "      <td>1569234300000</td>\n",
              "      <td>NaN</td>\n",
              "      <td>0</td>\n",
              "      <td>4.2</td>\n",
              "      <td>CEL</td>\n",
              "      <td>NaN</td>\n",
              "      <td>NaN</td>\n",
              "      <td>NaN</td>\n",
              "      <td>NaN</td>\n",
              "    </tr>\n",
              "    <tr>\n",
              "      <th>2</th>\n",
              "      <td>D_tV7pr0LT2NdG_4-iy3H</td>\n",
              "      <td>1569276027914</td>\n",
              "      <td>urn:tilkal:platform:id:giai:tilliance.SSR00002</td>\n",
              "      <td>NaN</td>\n",
              "      <td>2019-09-23T15:28:00Z</td>\n",
              "      <td>+00:00</td>\n",
              "      <td>OBSERVE</td>\n",
              "      <td>NaN</td>\n",
              "      <td>urn:tilkal:platform:id:bt:R00001.18161</td>\n",
              "      <td>cb3cab44824b3dc20594b28eadeb10d580cefd0b73c59c...</td>\n",
              "      <td>2019-09-23T22:00:42Z</td>\n",
              "      <td>1569252480000</td>\n",
              "      <td>NaN</td>\n",
              "      <td>0</td>\n",
              "      <td>5.9</td>\n",
              "      <td>CEL</td>\n",
              "      <td>NaN</td>\n",
              "      <td>NaN</td>\n",
              "      <td>NaN</td>\n",
              "      <td>NaN</td>\n",
              "    </tr>\n",
              "    <tr>\n",
              "      <th>3</th>\n",
              "      <td>oL-fkjD3jGqp0Q5xOV-Pe</td>\n",
              "      <td>1569276027916</td>\n",
              "      <td>urn:tilkal:platform:id:giai:tilliance.SSR00003</td>\n",
              "      <td>NaN</td>\n",
              "      <td>2019-09-23T15:36:00Z</td>\n",
              "      <td>+00:00</td>\n",
              "      <td>OBSERVE</td>\n",
              "      <td>NaN</td>\n",
              "      <td>urn:tilkal:platform:id:bt:R00001.18161</td>\n",
              "      <td>a3d51034a36c2a459898cf3dca489836184c355e457302...</td>\n",
              "      <td>2019-09-23T22:00:42Z</td>\n",
              "      <td>1569252960000</td>\n",
              "      <td>NaN</td>\n",
              "      <td>0</td>\n",
              "      <td>NaN</td>\n",
              "      <td>NaN</td>\n",
              "      <td>0.0</td>\n",
              "      <td>LUX</td>\n",
              "      <td>NaN</td>\n",
              "      <td>NaN</td>\n",
              "    </tr>\n",
              "    <tr>\n",
              "      <th>4</th>\n",
              "      <td>tXwFBks3BdaJS0bvBUqL4</td>\n",
              "      <td>1569276027918</td>\n",
              "      <td>urn:tilkal:platform:id:giai:tilliance.SSR00004</td>\n",
              "      <td>ObjectEvent</td>\n",
              "      <td>2019-09-23T12:39:00Z</td>\n",
              "      <td>+00:00</td>\n",
              "      <td>OBSERVE</td>\n",
              "      <td>NaN</td>\n",
              "      <td>urn:tilkal:platform:id:bt:R00001.18161</td>\n",
              "      <td>25d76610b09a3d0e804502cdc24840232f7efa98613ec3...</td>\n",
              "      <td>2019-09-23T22:00:42Z</td>\n",
              "      <td>1569242340000</td>\n",
              "      <td>NaN</td>\n",
              "      <td>0</td>\n",
              "      <td>NaN</td>\n",
              "      <td>NaN</td>\n",
              "      <td>NaN</td>\n",
              "      <td>NaN</td>\n",
              "      <td>58.8</td>\n",
              "      <td>KMH</td>\n",
              "    </tr>\n",
              "  </tbody>\n",
              "</table>\n",
              "</div>"
            ],
            "text/plain": [
              "        _source/recordId  ...  _source/data/extensions/speed/measurementUnitCode\n",
              "0  hK0ifOPpo_9nrT8Y289DQ  ...                                                NaN\n",
              "1  Z1nJpvWNpa36hFl7fnQC1  ...                                                NaN\n",
              "2  D_tV7pr0LT2NdG_4-iy3H  ...                                                NaN\n",
              "3  oL-fkjD3jGqp0Q5xOV-Pe  ...                                                NaN\n",
              "4  tXwFBks3BdaJS0bvBUqL4  ...                                                KMH\n",
              "\n",
              "[5 rows x 20 columns]"
            ]
          },
          "metadata": {
            "tags": []
          },
          "execution_count": 12
        }
      ]
    },
    {
      "cell_type": "markdown",
      "metadata": {
        "id": "TeOZzJ99B9fe",
        "colab_type": "text"
      },
      "source": [
        "**DROPNA**"
      ]
    },
    {
      "cell_type": "code",
      "metadata": {
        "id": "SVPNbOpeB8Yq",
        "colab_type": "code",
        "colab": {
          "base_uri": "https://localhost:8080/",
          "height": 35
        },
        "outputId": "33a3a60d-e03b-409a-9c68-ffee20c5762a"
      },
      "source": [
        "print(df.dropna(how = 'any').shape) #Drops the rows which have any Nan values"
      ],
      "execution_count": 18,
      "outputs": [
        {
          "output_type": "stream",
          "text": [
            "(0, 20)\n"
          ],
          "name": "stdout"
        }
      ]
    },
    {
      "cell_type": "code",
      "metadata": {
        "id": "TARPi2MmCOIP",
        "colab_type": "code",
        "colab": {
          "base_uri": "https://localhost:8080/",
          "height": 35
        },
        "outputId": "e099a68a-06d6-4294-eeff-a3ef8c3e6fef"
      },
      "source": [
        "print(df.dropna(how = 'all').shape)  #Drops the rows which have all Nan values"
      ],
      "execution_count": 19,
      "outputs": [
        {
          "output_type": "stream",
          "text": [
            "(16980, 20)\n"
          ],
          "name": "stdout"
        }
      ]
    },
    {
      "cell_type": "code",
      "metadata": {
        "id": "PvS3RtsG9JSE",
        "colab_type": "code",
        "colab": {
          "base_uri": "https://localhost:8080/",
          "height": 341
        },
        "outputId": "18cd19c6-5022-4e52-eed6-4ed49b6e7289"
      },
      "source": [
        "print(df.dropna(thresh=5000, axis ='columns').info())  #thresh = x drops those columns which don't have at least x non-na values. Observe that temp, light etc are dropped because they had fewer than 5000 non-nnull values"
      ],
      "execution_count": 17,
      "outputs": [
        {
          "output_type": "stream",
          "text": [
            "<class 'pandas.core.frame.DataFrame'>\n",
            "RangeIndex: 16980 entries, 0 to 16979\n",
            "Data columns (total 12 columns):\n",
            "_source/recordId                                    16980 non-null object\n",
            "_source/date                                        16980 non-null int64\n",
            "_source/assetId                                     16980 non-null object\n",
            "_source/data/eventType                              8308 non-null object\n",
            "_source/data/eventTime                              16980 non-null object\n",
            "_source/data/eventTimeZoneOffset                    16980 non-null object\n",
            "_source/data/action                                 16980 non-null object\n",
            "_source/data/bizTransactionList/0/bizTransaction    16980 non-null object\n",
            "_source/data/eventID                                16980 non-null object\n",
            "_source/data/recordTime                             16980 non-null object\n",
            "_source/extensions/eventTime                        16980 non-null int64\n",
            "_source/extensions/height                           16980 non-null int64\n",
            "dtypes: int64(3), object(9)\n",
            "memory usage: 1.6+ MB\n",
            "None\n"
          ],
          "name": "stdout"
        }
      ]
    },
    {
      "cell_type": "markdown",
      "metadata": {
        "id": "lo4hcCpkBir3",
        "colab_type": "text"
      },
      "source": [
        "# Transforming DataFrames\n",
        "\n",
        "Heirarchy of goodness of methods:\n",
        "1. Inherent dataframes methods\n",
        "2. Numpy Ufuncs or universal functions\n",
        "\n",
        "When performance is paramount, you should avoid using .apply() and .map() because those constructs perform Python for-loops over the data stored in a pandas Series or DataFrame. By using vectorized functions instead, you can loop over the data at the same speed as compiled code (C, Fortran, etc.)! NumPy, SciPy and pandas come with a variety of vectorized functions (called Universal Functions or UFuncs in NumPy)."
      ]
    },
    {
      "cell_type": "markdown",
      "metadata": {
        "id": "LEuHkX6FEaMx",
        "colab_type": "text"
      },
      "source": [
        "**Apply function**"
      ]
    },
    {
      "cell_type": "code",
      "metadata": {
        "id": "NwjkXoKJA3eE",
        "colab_type": "code",
        "colab": {
          "base_uri": "https://localhost:8080/",
          "height": 204
        },
        "outputId": "daecc664-1682-48e8-c5f3-a908f210532a"
      },
      "source": [
        "def add_one(x):\n",
        "  return x+1\n",
        "\n",
        "cols = ['_source/date']\n",
        "df_new = df[cols]\n",
        "\n",
        "df_new = df_new.apply(add_one)\n",
        "df_new.head()"
      ],
      "execution_count": 20,
      "outputs": [
        {
          "output_type": "execute_result",
          "data": {
            "text/html": [
              "<div>\n",
              "<style scoped>\n",
              "    .dataframe tbody tr th:only-of-type {\n",
              "        vertical-align: middle;\n",
              "    }\n",
              "\n",
              "    .dataframe tbody tr th {\n",
              "        vertical-align: top;\n",
              "    }\n",
              "\n",
              "    .dataframe thead th {\n",
              "        text-align: right;\n",
              "    }\n",
              "</style>\n",
              "<table border=\"1\" class=\"dataframe\">\n",
              "  <thead>\n",
              "    <tr style=\"text-align: right;\">\n",
              "      <th></th>\n",
              "      <th>_source/date</th>\n",
              "    </tr>\n",
              "  </thead>\n",
              "  <tbody>\n",
              "    <tr>\n",
              "      <th>0</th>\n",
              "      <td>1569276027912</td>\n",
              "    </tr>\n",
              "    <tr>\n",
              "      <th>1</th>\n",
              "      <td>1569276027913</td>\n",
              "    </tr>\n",
              "    <tr>\n",
              "      <th>2</th>\n",
              "      <td>1569276027915</td>\n",
              "    </tr>\n",
              "    <tr>\n",
              "      <th>3</th>\n",
              "      <td>1569276027917</td>\n",
              "    </tr>\n",
              "    <tr>\n",
              "      <th>4</th>\n",
              "      <td>1569276027919</td>\n",
              "    </tr>\n",
              "  </tbody>\n",
              "</table>\n",
              "</div>"
            ],
            "text/plain": [
              "    _source/date\n",
              "0  1569276027912\n",
              "1  1569276027913\n",
              "2  1569276027915\n",
              "3  1569276027917\n",
              "4  1569276027919"
            ]
          },
          "metadata": {
            "tags": []
          },
          "execution_count": 20
        }
      ]
    },
    {
      "cell_type": "markdown",
      "metadata": {
        "id": "pE9YrN7hHQqI",
        "colab_type": "text"
      },
      "source": [
        "**Map function**"
      ]
    },
    {
      "cell_type": "code",
      "metadata": {
        "id": "MCNtMtgAFEDx",
        "colab_type": "code",
        "colab": {
          "base_uri": "https://localhost:8080/",
          "height": 224
        },
        "outputId": "b396a3f3-c789-4e90-f199-fbfcf3c8cb63"
      },
      "source": [
        "item_id = {'urn:tilkal:platform:id:giai:tilliance.SSR00001':'geo', 'urn:tilkal:platform:id:giai:tilliance.SSR00002':'temp','urn:tilkal:platform:id:giai:tilliance.SSR00003':'light','urn:tilkal:platform:id:giai:tilliance.SSR00004':'speed'}\n",
        "\n",
        "df['event_type'] = df['_source/assetId'].map(item_id)\n",
        "df.head()"
      ],
      "execution_count": 21,
      "outputs": [
        {
          "output_type": "execute_result",
          "data": {
            "text/html": [
              "<div>\n",
              "<style scoped>\n",
              "    .dataframe tbody tr th:only-of-type {\n",
              "        vertical-align: middle;\n",
              "    }\n",
              "\n",
              "    .dataframe tbody tr th {\n",
              "        vertical-align: top;\n",
              "    }\n",
              "\n",
              "    .dataframe thead th {\n",
              "        text-align: right;\n",
              "    }\n",
              "</style>\n",
              "<table border=\"1\" class=\"dataframe\">\n",
              "  <thead>\n",
              "    <tr style=\"text-align: right;\">\n",
              "      <th></th>\n",
              "      <th>_source/recordId</th>\n",
              "      <th>_source/date</th>\n",
              "      <th>_source/assetId</th>\n",
              "      <th>_source/data/eventType</th>\n",
              "      <th>_source/data/eventTime</th>\n",
              "      <th>_source/data/eventTimeZoneOffset</th>\n",
              "      <th>_source/data/action</th>\n",
              "      <th>_source/data/readPoint</th>\n",
              "      <th>_source/data/bizTransactionList/0/bizTransaction</th>\n",
              "      <th>_source/data/eventID</th>\n",
              "      <th>_source/data/recordTime</th>\n",
              "      <th>_source/extensions/eventTime</th>\n",
              "      <th>_source/extensions/readPoint</th>\n",
              "      <th>_source/extensions/height</th>\n",
              "      <th>_source/data/extensions/temperature/measurement</th>\n",
              "      <th>_source/data/extensions/temperature/measurementUnitCode</th>\n",
              "      <th>_source/data/extensions/light/measurement</th>\n",
              "      <th>_source/data/extensions/light/measurementUnitCode</th>\n",
              "      <th>_source/data/extensions/speed/measurement</th>\n",
              "      <th>_source/data/extensions/speed/measurementUnitCode</th>\n",
              "      <th>event_type</th>\n",
              "    </tr>\n",
              "  </thead>\n",
              "  <tbody>\n",
              "    <tr>\n",
              "      <th>0</th>\n",
              "      <td>hK0ifOPpo_9nrT8Y289DQ</td>\n",
              "      <td>1569276027911</td>\n",
              "      <td>urn:tilkal:platform:id:giai:tilliance.SSR00001</td>\n",
              "      <td>NaN</td>\n",
              "      <td>2019-09-23T13:51:00Z</td>\n",
              "      <td>+00:00</td>\n",
              "      <td>OBSERVE</td>\n",
              "      <td>geo:53.67251,-2.62616</td>\n",
              "      <td>urn:tilkal:platform:id:bt:R00001.18161</td>\n",
              "      <td>c278f581cc2664c0bc07fff486edda260e790ba1900ba9...</td>\n",
              "      <td>2019-09-23T22:00:42Z</td>\n",
              "      <td>1569246660000</td>\n",
              "      <td>53.67251,-2.62616</td>\n",
              "      <td>0</td>\n",
              "      <td>NaN</td>\n",
              "      <td>NaN</td>\n",
              "      <td>NaN</td>\n",
              "      <td>NaN</td>\n",
              "      <td>NaN</td>\n",
              "      <td>NaN</td>\n",
              "      <td>geo</td>\n",
              "    </tr>\n",
              "    <tr>\n",
              "      <th>1</th>\n",
              "      <td>Z1nJpvWNpa36hFl7fnQC1</td>\n",
              "      <td>1569276027912</td>\n",
              "      <td>urn:tilkal:platform:id:giai:tilliance.SSR00002</td>\n",
              "      <td>NaN</td>\n",
              "      <td>2019-09-23T10:25:00Z</td>\n",
              "      <td>+00:00</td>\n",
              "      <td>OBSERVE</td>\n",
              "      <td>NaN</td>\n",
              "      <td>urn:tilkal:platform:id:bt:R00001.18161</td>\n",
              "      <td>1668121f1a312e32c27b4f0adc1447e45ccd8b64013ec9...</td>\n",
              "      <td>2019-09-23T22:00:42Z</td>\n",
              "      <td>1569234300000</td>\n",
              "      <td>NaN</td>\n",
              "      <td>0</td>\n",
              "      <td>4.2</td>\n",
              "      <td>CEL</td>\n",
              "      <td>NaN</td>\n",
              "      <td>NaN</td>\n",
              "      <td>NaN</td>\n",
              "      <td>NaN</td>\n",
              "      <td>temp</td>\n",
              "    </tr>\n",
              "    <tr>\n",
              "      <th>2</th>\n",
              "      <td>D_tV7pr0LT2NdG_4-iy3H</td>\n",
              "      <td>1569276027914</td>\n",
              "      <td>urn:tilkal:platform:id:giai:tilliance.SSR00002</td>\n",
              "      <td>NaN</td>\n",
              "      <td>2019-09-23T15:28:00Z</td>\n",
              "      <td>+00:00</td>\n",
              "      <td>OBSERVE</td>\n",
              "      <td>NaN</td>\n",
              "      <td>urn:tilkal:platform:id:bt:R00001.18161</td>\n",
              "      <td>cb3cab44824b3dc20594b28eadeb10d580cefd0b73c59c...</td>\n",
              "      <td>2019-09-23T22:00:42Z</td>\n",
              "      <td>1569252480000</td>\n",
              "      <td>NaN</td>\n",
              "      <td>0</td>\n",
              "      <td>5.9</td>\n",
              "      <td>CEL</td>\n",
              "      <td>NaN</td>\n",
              "      <td>NaN</td>\n",
              "      <td>NaN</td>\n",
              "      <td>NaN</td>\n",
              "      <td>temp</td>\n",
              "    </tr>\n",
              "    <tr>\n",
              "      <th>3</th>\n",
              "      <td>oL-fkjD3jGqp0Q5xOV-Pe</td>\n",
              "      <td>1569276027916</td>\n",
              "      <td>urn:tilkal:platform:id:giai:tilliance.SSR00003</td>\n",
              "      <td>NaN</td>\n",
              "      <td>2019-09-23T15:36:00Z</td>\n",
              "      <td>+00:00</td>\n",
              "      <td>OBSERVE</td>\n",
              "      <td>NaN</td>\n",
              "      <td>urn:tilkal:platform:id:bt:R00001.18161</td>\n",
              "      <td>a3d51034a36c2a459898cf3dca489836184c355e457302...</td>\n",
              "      <td>2019-09-23T22:00:42Z</td>\n",
              "      <td>1569252960000</td>\n",
              "      <td>NaN</td>\n",
              "      <td>0</td>\n",
              "      <td>NaN</td>\n",
              "      <td>NaN</td>\n",
              "      <td>0.0</td>\n",
              "      <td>LUX</td>\n",
              "      <td>NaN</td>\n",
              "      <td>NaN</td>\n",
              "      <td>light</td>\n",
              "    </tr>\n",
              "    <tr>\n",
              "      <th>4</th>\n",
              "      <td>tXwFBks3BdaJS0bvBUqL4</td>\n",
              "      <td>1569276027918</td>\n",
              "      <td>urn:tilkal:platform:id:giai:tilliance.SSR00004</td>\n",
              "      <td>ObjectEvent</td>\n",
              "      <td>2019-09-23T12:39:00Z</td>\n",
              "      <td>+00:00</td>\n",
              "      <td>OBSERVE</td>\n",
              "      <td>NaN</td>\n",
              "      <td>urn:tilkal:platform:id:bt:R00001.18161</td>\n",
              "      <td>25d76610b09a3d0e804502cdc24840232f7efa98613ec3...</td>\n",
              "      <td>2019-09-23T22:00:42Z</td>\n",
              "      <td>1569242340000</td>\n",
              "      <td>NaN</td>\n",
              "      <td>0</td>\n",
              "      <td>NaN</td>\n",
              "      <td>NaN</td>\n",
              "      <td>NaN</td>\n",
              "      <td>NaN</td>\n",
              "      <td>58.8</td>\n",
              "      <td>KMH</td>\n",
              "      <td>speed</td>\n",
              "    </tr>\n",
              "  </tbody>\n",
              "</table>\n",
              "</div>"
            ],
            "text/plain": [
              "        _source/recordId  ...  event_type\n",
              "0  hK0ifOPpo_9nrT8Y289DQ  ...         geo\n",
              "1  Z1nJpvWNpa36hFl7fnQC1  ...        temp\n",
              "2  D_tV7pr0LT2NdG_4-iy3H  ...        temp\n",
              "3  oL-fkjD3jGqp0Q5xOV-Pe  ...       light\n",
              "4  tXwFBks3BdaJS0bvBUqL4  ...       speed\n",
              "\n",
              "[5 rows x 21 columns]"
            ]
          },
          "metadata": {
            "tags": []
          },
          "execution_count": 21
        }
      ]
    },
    {
      "cell_type": "code",
      "metadata": {
        "id": "Zn_l1wOMIOSL",
        "colab_type": "code",
        "colab": {}
      },
      "source": [
        ""
      ],
      "execution_count": 0,
      "outputs": []
    }
  ]
}